{
 "cells": [
  {
   "cell_type": "code",
   "execution_count": 9,
   "id": "0d364ca1",
   "metadata": {},
   "outputs": [],
   "source": [
    "import numpy as np\n",
    "import torch\n",
    "import torch.nn as nn\n",
    "import torch.optim as optim\n",
    "import numpy as np\n",
    "import random\n",
    "from collections import deque\n",
    "import time\n",
    "\n",
    "from collections import deque\n",
    "import time\n",
    "import random\n",
    "from tqdm import tqdm\n",
    "import os\n",
    "from PIL import Image\n",
    "import cv2\n",
    "import pandas as pd\n",
    "\n",
    "from enviroments import TimeSeriesEnv\n",
    "\n"
   ]
  },
  {
   "cell_type": "code",
   "execution_count": 7,
   "id": "0612764b",
   "metadata": {},
   "outputs": [],
   "source": [
    "DISCOUNT = 0.99\n",
    "REPLAY_MEMORY_SIZE = 1000  # How many last steps to keep for model training\n",
    "MIN_REPLAY_MEMORY_SIZE = 200  # Minimum number of steps in a memory to start training\n",
    "MINIBATCH_SIZE = 128  # How many steps (samples) to use for training\n",
    "UPDATE_TARGET_EVERY = 10  # Terminal states (end of episodes)\n",
    "MODEL_NAME = 'window48_profit'\n",
    "MIN_REWARD = -200  # For model save\n",
    "MEMORY_FRACTION = 0.20\n",
    "\n",
    "# Environment settings\n",
    "EPISODES = 1000\n",
    "\n",
    "# Exploration settings\n",
    "epsilon = 1  # not a constant, going to be decayed\n",
    "EPSILON_DECAY = 0.99975\n",
    "MIN_EPSILON = 0.001\n",
    "\n",
    "#  Stats settings\n",
    "AGGREGATE_STATS_EVERY = 100  # episodes\n",
    "SHOW_PREVIEW = True\n",
    "\n",
    "# For stats\n",
    "ep_rewards = [-200]\n",
    "\n",
    "# For more repetitive results\n",
    "random.seed(1)\n",
    "\n",
    "# Memory fraction, used mostly when trai8ning multiple agents\n",
    "#gpu_options = tf.GPUOptions(per_process_gpu_memory_fraction=MEMORY_FRACTION)\n",
    "#backend.set_session(tf.Session(config=tf.ConfigProto(gpu_options=gpu_options)))\n",
    "\n",
    "# Create models folder\n",
    "if not os.path.isdir('models'):\n",
    "    os.makedirs('models')\n",
    "\n",
    "\n"
   ]
  },
  {
   "cell_type": "code",
   "execution_count": 10,
   "id": "5f99332e",
   "metadata": {},
   "outputs": [
    {
     "data": {
      "text/plain": [
       "array([1132.98999 , 1136.52002 , 1137.140015, ..., 3240.02002 ,\n",
       "       3221.290039, 3230.780029])"
      ]
     },
     "execution_count": 10,
     "metadata": {},
     "output_type": "execute_result"
    }
   ],
   "source": [
    "\n",
    "df = pd.read_csv('SP500.csv')\n",
    "data = df['Close'].values\n",
    "data"
   ]
  },
  {
   "cell_type": "code",
   "execution_count": 11,
   "id": "6828df3e",
   "metadata": {},
   "outputs": [
    {
     "data": {
      "text/plain": [
       "2012.8000000000002"
      ]
     },
     "execution_count": 11,
     "metadata": {},
     "output_type": "execute_result"
    }
   ],
   "source": [
    "len(data)  * 0.8"
   ]
  },
  {
   "cell_type": "code",
   "execution_count": 12,
   "id": "03cf5700",
   "metadata": {},
   "outputs": [],
   "source": [
    "from enviroments import TimeSeriesEnv\n",
    "#add_trend = np.logspace(np.log(1.08), np.log(2), 500, base=np.exp(2))\n",
    "#data = np.sin(np.linspace(0, 100, 500)).astype(np.float32)# + add_trend\n",
    "data_split = int(len(data)  * 0.8)\n",
    "train_data = data[:data_split]\n",
    "valid_data = data[data_split:]\n",
    "\n",
    "env = TimeSeriesEnv(train_data, window_size=48)\n",
    "valid_env = TimeSeriesEnv(valid_data,window_size=48)"
   ]
  },
  {
   "cell_type": "code",
   "execution_count": 42,
   "id": "6186a745",
   "metadata": {},
   "outputs": [],
   "source": [
    "import gym\n",
    "\n",
    "envs = gym.vector.AsyncVectorEnv([lambda: TimeSeriesEnv(train_data, window_size=48)] * 3)"
   ]
  },
  {
   "cell_type": "code",
   "execution_count": 43,
   "id": "ad575170",
   "metadata": {},
   "outputs": [
    {
     "data": {
      "text/plain": [
       "array([0.0662097 , 0.06832656, 0.06869835, 0.07142682, 0.07339976,\n",
       "       0.0745991 , 0.06814663, 0.07381957, 0.07548661, 0.06803273,\n",
       "       0.07654803, 0.06923807, 0.05630912, 0.04148526, 0.04449563,\n",
       "       0.04173115, 0.04492737, 0.03714965, 0.03075713, 0.03994407,\n",
       "       0.04841743, 0.04479546, 0.02430466, 0.02615163, 0.02048476,\n",
       "       0.02874825, 0.02731503, 0.03351561, 0.0317406 , 0.04335023,\n",
       "       0.04613272, 0.05047433, 0.05192557, 0.05122992, 0.04318831,\n",
       "       0.04956882, 0.04818955, 0.04911907, 0.05584737, 0.05740657,\n",
       "       0.0576944 , 0.06020099, 0.0696338 , 0.0695139 , 0.07068323,\n",
       "       0.07377756, 0.07655404, 0.07640412], dtype=float32)"
      ]
     },
     "execution_count": 43,
     "metadata": {},
     "output_type": "execute_result"
    }
   ],
   "source": [
    "\n",
    "env._get_observation()"
   ]
  },
  {
   "cell_type": "code",
   "execution_count": 44,
   "id": "7ebf9dc6",
   "metadata": {},
   "outputs": [
    {
     "data": {
      "text/plain": [
       "[<matplotlib.lines.Line2D at 0x2961efd7250>]"
      ]
     },
     "execution_count": 44,
     "metadata": {},
     "output_type": "execute_result"
    },
    {
     "data": {
      "image/png": "[encoded data removed]",
      "text/plain": [
       "<Figure size 640x480 with 1 Axes>"
      ]
     },
     "metadata": {},
     "output_type": "display_data"
    }
   ],
   "source": [
    "import matplotlib.pyplot as plt\n",
    "\n",
    "plt.plot(data)"
   ]
  },
  {
   "cell_type": "code",
   "execution_count": 13,
   "id": "8a19605e",
   "metadata": {},
   "outputs": [],
   "source": [
    "\n",
    "device = torch.device(\"cuda\" if torch.cuda.is_available() else \"cpu\")\n",
    "\n",
    "# Prosta sieć neuronowa w PyTorchu\n",
    "class DQN(nn.Module):\n",
    "    def __init__(self, input_dim, output_dim):\n",
    "        super(DQN, self).__init__()\n",
    "        self.fc1 = nn.Linear(input_dim, 32)\n",
    "        self.fc2 = nn.Linear(32, 16)\n",
    "        self.fc3 = nn.Linear(16, 8)\n",
    "        self.output = nn.Linear(8, output_dim)\n",
    "\n",
    "    def forward(self, x):\n",
    "        x = torch.relu(self.fc1(x))\n",
    "        x = torch.relu(self.fc2(x))\n",
    "        x = torch.relu(self.fc3(x))\n",
    "        return self.output(x)\n",
    "\n",
    "class DQNAgent:\n",
    "    def __init__(self):\n",
    "        self.model = DQN(env.observation_space.shape[0], env.action_space.n).to(device)\n",
    "        self.target_model = DQN(env.observation_space.shape[0], env.action_space.n).to(device)\n",
    "        self.target_model.load_state_dict(self.model.state_dict())\n",
    "        self.target_model.eval()\n",
    "\n",
    "        self.optimizer = optim.Adam(self.model.parameters(), lr=0.001)\n",
    "        self.loss_fn = nn.MSELoss()\n",
    "\n",
    "        self.replay_memory = deque(maxlen=REPLAY_MEMORY_SIZE)\n",
    "        self.target_update_counter = 0\n",
    "\n",
    "    def update_replay_memory(self, transition):\n",
    "        self.replay_memory.append(transition)\n",
    "\n",
    "    def train(self, terminal_state, step, min_val, max_val):\n",
    "        if len(self.replay_memory) < MIN_REPLAY_MEMORY_SIZE:\n",
    "            return\n",
    "\n",
    "        minibatch = random.sample(self.replay_memory, MINIBATCH_SIZE)\n",
    "\n",
    "        # Rozpakowanie danych\n",
    "        states, actions, rewards, next_states, dones = zip(*minibatch)\n",
    "\n",
    "        states_v = torch.from_numpy(np.array(states)).float().to(device)\n",
    "        next_states_v = torch.from_numpy(np.array(next_states)).float().to(device)\n",
    "        actions_v = torch.tensor(actions, dtype=torch.int64, device=device)\n",
    "        rewards_v = torch.tensor(rewards, dtype=torch.float32, device=device)\n",
    "        dones_v = torch.tensor(dones, dtype=torch.bool, device=device)        \n",
    "        \n",
    "        with torch.no_grad():\n",
    "            target_qs = self.target_model(next_states_v)\n",
    "            max_future_qs = torch.max(target_qs, dim=1)[0]\n",
    "            new_qs = rewards_v + (~dones_v * DISCOUNT * max_future_qs)\n",
    "\n",
    "        current_qs = self.model(states_v)\n",
    "        predicted_qs = current_qs.gather(1, actions_v.unsqueeze(1)).squeeze()\n",
    "\n",
    "        loss = self.loss_fn(predicted_qs, new_qs)\n",
    "        self.optimizer.zero_grad()\n",
    "        loss.backward()\n",
    "        self.optimizer.step()\n",
    "\n",
    "        if terminal_state:\n",
    "            self.target_update_counter += 1\n",
    "\n",
    "        if self.target_update_counter > UPDATE_TARGET_EVERY:\n",
    "            self.target_model.load_state_dict(self.model.state_dict())\n",
    "            self.target_update_counter = 0\n",
    "\n",
    "    def get_qs(self, state):\n",
    "        #state = np.array(state) / 255.0\n",
    "        state_v = torch.tensor(state, dtype=torch.float32).unsqueeze(0).to(device)\n",
    "        with torch.no_grad():\n",
    "            qs = self.model(state_v)\n",
    "        return qs.cpu().numpy()[0]\n"
   ]
  },
  {
   "cell_type": "code",
   "execution_count": 14,
   "id": "763e7637",
   "metadata": {},
   "outputs": [],
   "source": [
    "agent = DQNAgent()"
   ]
  },
  {
   "cell_type": "code",
   "execution_count": 47,
   "id": "ba6a963e",
   "metadata": {},
   "outputs": [
    {
     "name": "stderr",
     "output_type": "stream",
     "text": [
      " 25%|##5       | 100/400 [11:17<39:13,  7.84s/episodes]"
     ]
    },
    {
     "name": "stdout",
     "output_type": "stream",
     "text": [
      "Episode: 100 Total Reward: 18553.920019000005 Epsilon: 1.00\n"
     ]
    },
    {
     "name": "stderr",
     "output_type": "stream",
     "text": [
      " 50%|#####     | 200/400 [24:04<23:52,  7.16s/episodes]"
     ]
    },
    {
     "name": "stdout",
     "output_type": "stream",
     "text": [
      "Episode: 200 Total Reward: 27399.058780000014 Epsilon: 1.00\n"
     ]
    },
    {
     "name": "stderr",
     "output_type": "stream",
     "text": [
      " 75%|#######5  | 300/400 [35:14<11:25,  6.85s/episodes]"
     ]
    },
    {
     "name": "stdout",
     "output_type": "stream",
     "text": [
      "Episode: 300 Total Reward: 23104.159533000002 Epsilon: 1.00\n"
     ]
    },
    {
     "name": "stderr",
     "output_type": "stream",
     "text": [
      "100%|##########| 400/400 [46:48<00:00,  7.02s/episodes]"
     ]
    },
    {
     "name": "stdout",
     "output_type": "stream",
     "text": [
      "Episode: 400 Total Reward: 49744.729121999946 Epsilon: 1.00\n"
     ]
    },
    {
     "name": "stderr",
     "output_type": "stream",
     "text": [
      "\n"
     ]
    }
   ],
   "source": [
    "import multiprocessing\n",
    "\n",
    "\n",
    "def train_episode(agent,episode, epsilon):\n",
    "\n",
    "    episode_reward = 0\n",
    "    step = 1\n",
    "\n",
    "    current_state = env.reset()\n",
    "\n",
    "    done = False\n",
    "    while not done:\n",
    "\n",
    "        if np.random.random() > epsilon:\n",
    "            action = np.argmax(agent.get_qs(current_state))\n",
    "        else:\n",
    "            # Get random action\n",
    "            action = np.random.randint(0, env.action_space.n)\n",
    "\n",
    "        new_state, reward, done = env.step(action)\n",
    "\n",
    "        # Transform new continous state to new discrete state and count reward\n",
    "        episode_reward += reward\n",
    "\n",
    "\n",
    "        # Every step we update replay memory and train main network\n",
    "        agent.update_replay_memory((current_state, action, reward, new_state, done))\n",
    "        agent.train(done, step, env.min_val, env.max_val)\n",
    "\n",
    "        current_state = new_state\n",
    "        step += 1\n",
    " \n",
    "    # Append episode reward to a list and log stats (every given number of episodes)\n",
    "    ep_rewards.append(episode_reward)\n",
    "    if SHOW_PREVIEW and not episode % AGGREGATE_STATS_EVERY:\n",
    "            print(f\"Episode: {episode} Total Reward: {env.total_profit} Epsilon: {epsilon:.2f}\")\n",
    "\n",
    "    \n",
    "    # Decay epsilon\n",
    "    if epsilon > MIN_EPSILON:\n",
    "        epsilon *= EPSILON_DECAY\n",
    "        epsilon = max(MIN_EPSILON, epsilon)\n",
    "\n",
    "    return episode_reward\n",
    "\n",
    "EPISODES = 400\n",
    "# Iterate over episodes\n",
    "for episode in tqdm(range(1, EPISODES + 1), ascii=True, unit='episodes'):\n",
    "    train_episode(agent,episode,epsilon)\n",
    "\n",
    "#przed opt - 18 min"
   ]
  },
  {
   "cell_type": "code",
   "execution_count": 48,
   "id": "e7e1b37b",
   "metadata": {},
   "outputs": [],
   "source": [
    "# from multiprocessing import Pool\n",
    "# from tqdm import tqdm\n",
    "\n",
    "# def train_wrapper(episode, epsilon):\n",
    "#     return train_episode(episode, epsilon)\n",
    "\n",
    "# if __name__ == \"__main__\":\n",
    "#     with Pool() as pool:\n",
    "#         results = list(tqdm(pool.starmap(train_wrapper, [(episode, epsilon) for episode in range(1, EPISODES + 1)]), total=EPISODES, ascii=True, unit='episodes'))"
   ]
  },
  {
   "cell_type": "code",
   "execution_count": 49,
   "id": "34ae76f5",
   "metadata": {},
   "outputs": [],
   "source": [
    "#from multiprocessing import Pool\n",
    "\n",
    "\n",
    "\n",
    "\n",
    "#with Pool() as p:\n",
    "#    print(p.map(train_episode, [episode for episode in range(1, EPISODES + 1)]))"
   ]
  },
  {
   "cell_type": "code",
   "execution_count": null,
   "id": "54cfc785",
   "metadata": {},
   "outputs": [],
   "source": [
    "def save_dqn_agent(agent, filename=\"dqn_model.pth\"):\n",
    "    torch.save({\n",
    "        'model_state_dict': agent.model.state_dict(),\n",
    "        'target_model_state_dict': agent.target_model.state_dict(),\n",
    "        'optimizer_state_dict': agent.optimizer.state_dict(),\n",
    "    }, filename)\n",
    "\n",
    "#save_dqn_agent(agent, \"trained_agent_stock.pth\")"
   ]
  },
  {
   "cell_type": "code",
   "execution_count": 15,
   "id": "cba36ead",
   "metadata": {},
   "outputs": [
    {
     "name": "stdout",
     "output_type": "stream",
     "text": [
      "Model załadowany z trained_agent_stock.pth\n"
     ]
    },
    {
     "name": "stderr",
     "output_type": "stream",
     "text": [
      "C:\\Users\\proso\\AppData\\Local\\Temp\\ipykernel_26812\\919574584.py:2: FutureWarning: You are using `torch.load` with `weights_only=False` (the current default value), which uses the default pickle module implicitly. It is possible to construct malicious pickle data which will execute arbitrary code during unpickling (See https://github.com/pytorch/pytorch/blob/main/SECURITY.md#untrusted-models for more details). In a future release, the default value for `weights_only` will be flipped to `True`. This limits the functions that could be executed during unpickling. Arbitrary objects will no longer be allowed to be loaded via this mode unless they are explicitly allowlisted by the user via `torch.serialization.add_safe_globals`. We recommend you start setting `weights_only=True` for any use case where you don't have full control of the loaded file. Please open an issue on GitHub for any issues related to this experimental feature.\n",
      "  checkpoint = torch.load(filename, map_location=torch.device(\"cuda\" if torch.cuda.is_available() else \"cpu\"))\n"
     ]
    }
   ],
   "source": [
    "def load_dqn_agent(agent, filename=\"dqn_model.pth\"):\n",
    "    checkpoint = torch.load(filename, map_location=torch.device(\"cuda\" if torch.cuda.is_available() else \"cpu\"))\n",
    "    agent.model.load_state_dict(checkpoint['model_state_dict'])\n",
    "    agent.target_model.load_state_dict(checkpoint['target_model_state_dict'])\n",
    "    agent.optimizer.load_state_dict(checkpoint['optimizer_state_dict'])\n",
    "    print(f\"Model załadowany z {filename}\")\n",
    "    \n",
    "load_dqn_agent(agent, \"trained_agent_stock.pth\")"
   ]
  },
  {
   "cell_type": "code",
   "execution_count": 17,
   "id": "39ac3975",
   "metadata": {},
   "outputs": [
    {
     "name": "stderr",
     "output_type": "stream",
     "text": [
      "ERROR -1 2104 Market data farm connection is OK:usfarm.nj\n",
      "ERROR -1 2104 Market data farm connection is OK:usfuture\n",
      "ERROR -1 2104 Market data farm connection is OK:cashfarm\n",
      "ERROR -1 2104 Market data farm connection is OK:usfarm\n",
      "ERROR -1 2106 HMDS data farm connection is OK:ushmds\n",
      "ERROR -1 2158 Sec-def data farm connection is OK:secdefil\n"
     ]
    },
    {
     "data": {
      "text/html": [
       "<div>\n",
       "<style scoped>\n",
       "    .dataframe tbody tr th:only-of-type {\n",
       "        vertical-align: middle;\n",
       "    }\n",
       "\n",
       "    .dataframe tbody tr th {\n",
       "        vertical-align: top;\n",
       "    }\n",
       "\n",
       "    .dataframe thead th {\n",
       "        text-align: right;\n",
       "    }\n",
       "</style>\n",
       "<table border=\"1\" class=\"dataframe\">\n",
       "  <thead>\n",
       "    <tr style=\"text-align: right;\">\n",
       "      <th></th>\n",
       "      <th>Date</th>\n",
       "      <th>Open</th>\n",
       "      <th>High</th>\n",
       "      <th>Low</th>\n",
       "      <th>Close</th>\n",
       "      <th>Volume</th>\n",
       "    </tr>\n",
       "  </thead>\n",
       "  <tbody>\n",
       "    <tr>\n",
       "      <th>0</th>\n",
       "      <td>2025-05-12 09:30:00</td>\n",
       "      <td>210.93</td>\n",
       "      <td>211.26</td>\n",
       "      <td>206.75</td>\n",
       "      <td>208.53</td>\n",
       "      <td>9903698</td>\n",
       "    </tr>\n",
       "    <tr>\n",
       "      <th>1</th>\n",
       "      <td>2025-05-12 10:00:00</td>\n",
       "      <td>208.53</td>\n",
       "      <td>210.09</td>\n",
       "      <td>208.46</td>\n",
       "      <td>209.16</td>\n",
       "      <td>5415617</td>\n",
       "    </tr>\n",
       "    <tr>\n",
       "      <th>2</th>\n",
       "      <td>2025-05-12 10:30:00</td>\n",
       "      <td>209.17</td>\n",
       "      <td>210.23</td>\n",
       "      <td>208.48</td>\n",
       "      <td>209.12</td>\n",
       "      <td>2849161</td>\n",
       "    </tr>\n",
       "    <tr>\n",
       "      <th>3</th>\n",
       "      <td>2025-05-12 11:00:00</td>\n",
       "      <td>209.12</td>\n",
       "      <td>209.13</td>\n",
       "      <td>208.11</td>\n",
       "      <td>208.76</td>\n",
       "      <td>1987464</td>\n",
       "    </tr>\n",
       "    <tr>\n",
       "      <th>4</th>\n",
       "      <td>2025-05-12 11:30:00</td>\n",
       "      <td>208.77</td>\n",
       "      <td>208.99</td>\n",
       "      <td>208.40</td>\n",
       "      <td>208.43</td>\n",
       "      <td>1565483</td>\n",
       "    </tr>\n",
       "    <tr>\n",
       "      <th>...</th>\n",
       "      <td>...</td>\n",
       "      <td>...</td>\n",
       "      <td>...</td>\n",
       "      <td>...</td>\n",
       "      <td>...</td>\n",
       "      <td>...</td>\n",
       "    </tr>\n",
       "    <tr>\n",
       "      <th>82</th>\n",
       "      <td>2025-05-20 11:30:00</td>\n",
       "      <td>207.65</td>\n",
       "      <td>208.43</td>\n",
       "      <td>207.00</td>\n",
       "      <td>207.92</td>\n",
       "      <td>2047229</td>\n",
       "    </tr>\n",
       "    <tr>\n",
       "      <th>83</th>\n",
       "      <td>2025-05-20 12:00:00</td>\n",
       "      <td>207.91</td>\n",
       "      <td>208.08</td>\n",
       "      <td>207.40</td>\n",
       "      <td>207.81</td>\n",
       "      <td>1124577</td>\n",
       "    </tr>\n",
       "    <tr>\n",
       "      <th>84</th>\n",
       "      <td>2025-05-20 12:30:00</td>\n",
       "      <td>207.81</td>\n",
       "      <td>208.02</td>\n",
       "      <td>207.58</td>\n",
       "      <td>207.61</td>\n",
       "      <td>888716</td>\n",
       "    </tr>\n",
       "    <tr>\n",
       "      <th>85</th>\n",
       "      <td>2025-05-20 13:00:00</td>\n",
       "      <td>207.61</td>\n",
       "      <td>207.74</td>\n",
       "      <td>207.11</td>\n",
       "      <td>207.38</td>\n",
       "      <td>1248274</td>\n",
       "    </tr>\n",
       "    <tr>\n",
       "      <th>86</th>\n",
       "      <td>2025-05-20 13:30:00</td>\n",
       "      <td>207.37</td>\n",
       "      <td>207.41</td>\n",
       "      <td>207.03</td>\n",
       "      <td>207.16</td>\n",
       "      <td>428223</td>\n",
       "    </tr>\n",
       "  </tbody>\n",
       "</table>\n",
       "<p>87 rows × 6 columns</p>\n",
       "</div>"
      ],
      "text/plain": [
       "                  Date    Open    High     Low   Close   Volume\n",
       "0  2025-05-12 09:30:00  210.93  211.26  206.75  208.53  9903698\n",
       "1  2025-05-12 10:00:00  208.53  210.09  208.46  209.16  5415617\n",
       "2  2025-05-12 10:30:00  209.17  210.23  208.48  209.12  2849161\n",
       "3  2025-05-12 11:00:00  209.12  209.13  208.11  208.76  1987464\n",
       "4  2025-05-12 11:30:00  208.77  208.99  208.40  208.43  1565483\n",
       "..                 ...     ...     ...     ...     ...      ...\n",
       "82 2025-05-20 11:30:00  207.65  208.43  207.00  207.92  2047229\n",
       "83 2025-05-20 12:00:00  207.91  208.08  207.40  207.81  1124577\n",
       "84 2025-05-20 12:30:00  207.81  208.02  207.58  207.61   888716\n",
       "85 2025-05-20 13:00:00  207.61  207.74  207.11  207.38  1248274\n",
       "86 2025-05-20 13:30:00  207.37  207.41  207.03  207.16   428223\n",
       "\n",
       "[87 rows x 6 columns]"
      ]
     },
     "execution_count": 17,
     "metadata": {},
     "output_type": "execute_result"
    }
   ],
   "source": [
    "from source.IB_connector import retrive_market_data\n",
    "\n",
    "training_set_aapl = retrive_market_data([\"AAPL\"], duration = \"7 d\", time_interval = \"30 mins\")\n",
    "training_set = training_set_aapl['AAPL']\n",
    "\n",
    "training_set['Date'] = pd.to_datetime(training_set['Date'].str.replace(' US/Eastern',''),format=\"%Y%m%d %H:%M:%S\")\n",
    "\n",
    "training_set"
   ]
  },
  {
   "cell_type": "code",
   "execution_count": 18,
   "id": "b2ae441e",
   "metadata": {},
   "outputs": [
    {
     "data": {
      "text/html": [
       "<div>\n",
       "<style scoped>\n",
       "    .dataframe tbody tr th:only-of-type {\n",
       "        vertical-align: middle;\n",
       "    }\n",
       "\n",
       "    .dataframe tbody tr th {\n",
       "        vertical-align: top;\n",
       "    }\n",
       "\n",
       "    .dataframe thead th {\n",
       "        text-align: right;\n",
       "    }\n",
       "</style>\n",
       "<table border=\"1\" class=\"dataframe\">\n",
       "  <thead>\n",
       "    <tr style=\"text-align: right;\">\n",
       "      <th></th>\n",
       "      <th>Date</th>\n",
       "      <th>Open</th>\n",
       "      <th>High</th>\n",
       "      <th>Low</th>\n",
       "      <th>Close</th>\n",
       "      <th>Volume</th>\n",
       "    </tr>\n",
       "  </thead>\n",
       "  <tbody>\n",
       "    <tr>\n",
       "      <th>0</th>\n",
       "      <td>2025-05-12 09:30:00</td>\n",
       "      <td>210.93</td>\n",
       "      <td>211.26</td>\n",
       "      <td>206.75</td>\n",
       "      <td>208.53</td>\n",
       "      <td>9903698</td>\n",
       "    </tr>\n",
       "    <tr>\n",
       "      <th>1</th>\n",
       "      <td>2025-05-12 10:00:00</td>\n",
       "      <td>208.53</td>\n",
       "      <td>210.09</td>\n",
       "      <td>208.46</td>\n",
       "      <td>209.16</td>\n",
       "      <td>5415617</td>\n",
       "    </tr>\n",
       "    <tr>\n",
       "      <th>2</th>\n",
       "      <td>2025-05-12 10:30:00</td>\n",
       "      <td>209.17</td>\n",
       "      <td>210.23</td>\n",
       "      <td>208.48</td>\n",
       "      <td>209.12</td>\n",
       "      <td>2849161</td>\n",
       "    </tr>\n",
       "    <tr>\n",
       "      <th>3</th>\n",
       "      <td>2025-05-12 11:00:00</td>\n",
       "      <td>209.12</td>\n",
       "      <td>209.13</td>\n",
       "      <td>208.11</td>\n",
       "      <td>208.76</td>\n",
       "      <td>1987464</td>\n",
       "    </tr>\n",
       "    <tr>\n",
       "      <th>4</th>\n",
       "      <td>2025-05-12 11:30:00</td>\n",
       "      <td>208.77</td>\n",
       "      <td>208.99</td>\n",
       "      <td>208.40</td>\n",
       "      <td>208.43</td>\n",
       "      <td>1565483</td>\n",
       "    </tr>\n",
       "    <tr>\n",
       "      <th>...</th>\n",
       "      <td>...</td>\n",
       "      <td>...</td>\n",
       "      <td>...</td>\n",
       "      <td>...</td>\n",
       "      <td>...</td>\n",
       "      <td>...</td>\n",
       "    </tr>\n",
       "    <tr>\n",
       "      <th>82</th>\n",
       "      <td>2025-05-20 11:30:00</td>\n",
       "      <td>207.65</td>\n",
       "      <td>208.43</td>\n",
       "      <td>207.00</td>\n",
       "      <td>207.92</td>\n",
       "      <td>2047229</td>\n",
       "    </tr>\n",
       "    <tr>\n",
       "      <th>83</th>\n",
       "      <td>2025-05-20 12:00:00</td>\n",
       "      <td>207.91</td>\n",
       "      <td>208.08</td>\n",
       "      <td>207.40</td>\n",
       "      <td>207.81</td>\n",
       "      <td>1124577</td>\n",
       "    </tr>\n",
       "    <tr>\n",
       "      <th>84</th>\n",
       "      <td>2025-05-20 12:30:00</td>\n",
       "      <td>207.81</td>\n",
       "      <td>208.02</td>\n",
       "      <td>207.58</td>\n",
       "      <td>207.61</td>\n",
       "      <td>888716</td>\n",
       "    </tr>\n",
       "    <tr>\n",
       "      <th>85</th>\n",
       "      <td>2025-05-20 13:00:00</td>\n",
       "      <td>207.61</td>\n",
       "      <td>207.74</td>\n",
       "      <td>207.11</td>\n",
       "      <td>207.38</td>\n",
       "      <td>1248274</td>\n",
       "    </tr>\n",
       "    <tr>\n",
       "      <th>86</th>\n",
       "      <td>2025-05-20 13:30:00</td>\n",
       "      <td>207.37</td>\n",
       "      <td>207.41</td>\n",
       "      <td>207.03</td>\n",
       "      <td>207.16</td>\n",
       "      <td>428223</td>\n",
       "    </tr>\n",
       "  </tbody>\n",
       "</table>\n",
       "<p>87 rows × 6 columns</p>\n",
       "</div>"
      ],
      "text/plain": [
       "                  Date    Open    High     Low   Close   Volume\n",
       "0  2025-05-12 09:30:00  210.93  211.26  206.75  208.53  9903698\n",
       "1  2025-05-12 10:00:00  208.53  210.09  208.46  209.16  5415617\n",
       "2  2025-05-12 10:30:00  209.17  210.23  208.48  209.12  2849161\n",
       "3  2025-05-12 11:00:00  209.12  209.13  208.11  208.76  1987464\n",
       "4  2025-05-12 11:30:00  208.77  208.99  208.40  208.43  1565483\n",
       "..                 ...     ...     ...     ...     ...      ...\n",
       "82 2025-05-20 11:30:00  207.65  208.43  207.00  207.92  2047229\n",
       "83 2025-05-20 12:00:00  207.91  208.08  207.40  207.81  1124577\n",
       "84 2025-05-20 12:30:00  207.81  208.02  207.58  207.61   888716\n",
       "85 2025-05-20 13:00:00  207.61  207.74  207.11  207.38  1248274\n",
       "86 2025-05-20 13:30:00  207.37  207.41  207.03  207.16   428223\n",
       "\n",
       "[87 rows x 6 columns]"
      ]
     },
     "execution_count": 18,
     "metadata": {},
     "output_type": "execute_result"
    }
   ],
   "source": [
    "training_set"
   ]
  },
  {
   "cell_type": "code",
   "execution_count": 19,
   "id": "f706ccff",
   "metadata": {},
   "outputs": [
    {
     "data": {
      "text/plain": [
       "array([207.51, 207.84, 207.59, 207.63, 207.92, 207.81, 207.61, 207.38,\n",
       "       207.16])"
      ]
     },
     "execution_count": 19,
     "metadata": {},
     "output_type": "execute_result"
    }
   ],
   "source": [
    "training_set['Close'].values[int(training_set.shape[0]* .9):]"
   ]
  },
  {
   "cell_type": "code",
   "execution_count": 21,
   "id": "38fb071d",
   "metadata": {},
   "outputs": [],
   "source": [
    "aapl_env = TimeSeriesEnv(training_set['Close'].values, 48)"
   ]
  },
  {
   "cell_type": "code",
   "execution_count": 22,
   "id": "6e97025e",
   "metadata": {},
   "outputs": [
    {
     "data": {
      "image/png": "[encoded data removed]",
      "text/plain": [
       "<Figure size 1400x600 with 1 Axes>"
      ]
     },
     "metadata": {},
     "output_type": "display_data"
    }
   ],
   "source": [
    "import torch\n",
    "import matplotlib.pyplot as plt\n",
    "\n",
    "\n",
    "def evaluate_steps(env, model, device=\"cuda:0\"):\n",
    "    state = env.reset()\n",
    "    total_reward = 0\n",
    "    done = False\n",
    "    steps = 0\n",
    "    action = 0\n",
    "    while not done:\n",
    "        # konwersja stanu na tensora\n",
    "        state_tensor = torch.tensor(state, dtype=torch.float32, device=device).unsqueeze(0)\n",
    "\n",
    "        with torch.no_grad():\n",
    "            q_values = model(state_tensor)\n",
    "            action = torch.argmax(q_values).item()\n",
    "\n",
    "        state, reward, done = env.step(action)\n",
    "        total_reward += reward\n",
    "        steps += 1\n",
    "        #print(f\"Krok: {steps}, Akcja: {action}, Nagroda: {reward:.2f}, Łączny zysk: {env.total_profit:.2f}\")\n",
    "\n",
    "    #print(state_tensor)\n",
    "    return total_reward\n",
    "\n",
    "\n",
    "def render_env(env, title_suffix=\"\"):\n",
    "    prices = env.data\n",
    "    buy_points = env.states_buy\n",
    "    sell_points = env.states_sell\n",
    "    profit = env.total_profit\n",
    "\n",
    "    plt.figure(figsize=(14, 6))\n",
    "    plt.plot(prices, label='Cena', linewidth=1.5)\n",
    "\n",
    "    if buy_points:\n",
    "        plt.scatter(buy_points, [prices[i] for i in buy_points],\n",
    "                    color='green', marker='^', label='Kup', s=100)\n",
    "    if sell_points:\n",
    "        plt.scatter(sell_points, [prices[i] for i in sell_points],\n",
    "                    color='red', marker='v', label='Sprzedaj', s=100)\n",
    "\n",
    "    plt.title(f'Działania agenta {title_suffix} | Łączny zysk: {profit:.2f}')\n",
    "    plt.axvline(x = 48, color = 'red', label = 'Początek okna czasowego')\n",
    "    plt.xlabel('Krok')\n",
    "    plt.ylabel('Cena')\n",
    "    plt.legend()\n",
    "    plt.grid(True)\n",
    "    plt.tight_layout()\n",
    "    plt.show()\n",
    "\n",
    "\n",
    "aapl_env.reset()\n",
    "evaluate_steps(aapl_env, agent.target_model)\n",
    "render_env(aapl_env, title_suffix=\"\")"
   ]
  },
  {
   "cell_type": "code",
   "execution_count": 25,
   "id": "3e04f834",
   "metadata": {},
   "outputs": [
    {
     "data": {
      "text/plain": [
       "33"
      ]
     },
     "execution_count": 25,
     "metadata": {},
     "output_type": "execute_result"
    }
   ],
   "source": [
    "len(aapl_env.states_buy)"
   ]
  },
  {
   "cell_type": "code",
   "execution_count": 26,
   "id": "97f95588",
   "metadata": {},
   "outputs": [
    {
     "data": {
      "text/plain": [
       "27"
      ]
     },
     "execution_count": 26,
     "metadata": {},
     "output_type": "execute_result"
    }
   ],
   "source": [
    "len(aapl_env.inventory)"
   ]
  },
  {
   "cell_type": "code",
   "execution_count": 29,
   "id": "f56fda1b",
   "metadata": {},
   "outputs": [
    {
     "data": {
      "text/plain": [
       "31.60000000000005"
      ]
     },
     "execution_count": 29,
     "metadata": {},
     "output_type": "execute_result"
    }
   ],
   "source": [
    "sum(aapl_env.inventory -aapl_env.data[-1])"
   ]
  }
 ],
 "metadata": {
  "kernelspec": {
   "display_name": "Python 3",
   "language": "python",
   "name": "python3"
  },
  "language_info": {
   "codemirror_mode": {
    "name": "ipython",
    "version": 3
   },
   "file_extension": ".py",
   "mimetype": "text/x-python",
   "name": "python",
   "nbconvert_exporter": "python",
   "pygments_lexer": "ipython3",
   "version": "3.10.7"
  }
 },
 "nbformat": 4,
 "nbformat_minor": 5
}
