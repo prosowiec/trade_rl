{
 "cells": [
  {
   "cell_type": "code",
   "execution_count": 5,
   "id": "ce37fc03",
   "metadata": {},
   "outputs": [],
   "source": [
    "from agent_training_pipeline import train_agent\n",
    "from concurrent.futures import ThreadPoolExecutor\n",
    "from multiprocessing import Process\n",
    "import multiprocessing\n",
    "import time"
   ]
  },
  {
   "cell_type": "code",
   "execution_count": 6,
   "id": "09400ac7",
   "metadata": {},
   "outputs": [],
   "source": [
    "# p1 = Process(target=train_agent, args=('NVDA',))\n",
    "# p2 = Process(target=train_agent, args=('GOOGL',))\n",
    "\n",
    "processes = []\n",
    "# Starts both processes\n",
    "tickers = ['NVDA', 'GOOGL', 'MSFT']\n",
    "\n",
    "for ticker in tickers:\n",
    "    p = multiprocessing.Process(target=train_agent, args=(ticker,))\n",
    "    p.start()\n",
    "    time.sleep(5)  # Optional: sleep to stagger process start times\n",
    "    processes.append(p)\n",
    "\n",
    "# Joins all the processes \n",
    "for p in processes:\n",
    "    p.join()"
   ]
  },
  {
   "cell_type": "code",
   "execution_count": null,
   "id": "a1e3aa3b",
   "metadata": {},
   "outputs": [
    {
     "name": "stderr",
     "output_type": "stream",
     "text": [
      "2025-06-05 11:21:38,465 - INFO - sent startApi\n",
      "2025-06-05 11:21:38,466 - INFO - REQUEST startApi {}\n",
      "2025-06-05 11:21:38,467 - INFO - SENDING startApi b'\\x00\\x00\\x00\\x0b71\\x002\\x002202\\x00\\x00'\n",
      "2025-06-05 11:21:38,467 - INFO - ANSWER connectAck {}\n",
      "2025-06-05 11:21:38,470 - INFO - ANSWER openOrderEnd {}\n",
      "2025-06-05 11:21:38,475 - INFO - ANSWER managedAccounts {'accountsList': 'DUK343627'}\n",
      "2025-06-05 11:21:38,477 - INFO - ANSWER nextValidId {'orderId': 1}\n",
      "2025-06-05 11:21:38,477 - INFO - ANSWER error {'reqId': -1, 'errorCode': 2104, 'errorString': 'Market data farm connection is OK:usfarm.nj', 'advancedOrderRejectJson': ''}\n",
      "2025-06-05 11:21:38,478 - ERROR - ERROR -1 2104 Market data farm connection is OK:usfarm.nj\n",
      "2025-06-05 11:21:38,479 - INFO - ANSWER error {'reqId': -1, 'errorCode': 2104, 'errorString': 'Market data farm connection is OK:cashfarm', 'advancedOrderRejectJson': ''}\n",
      "2025-06-05 11:21:38,479 - ERROR - ERROR -1 2104 Market data farm connection is OK:cashfarm\n",
      "2025-06-05 11:21:38,480 - INFO - ANSWER error {'reqId': -1, 'errorCode': 2104, 'errorString': 'Market data farm connection is OK:usfarm', 'advancedOrderRejectJson': ''}\n",
      "2025-06-05 11:21:38,480 - ERROR - ERROR -1 2104 Market data farm connection is OK:usfarm\n",
      "2025-06-05 11:21:38,481 - INFO - ANSWER error {'reqId': -1, 'errorCode': 2106, 'errorString': 'HMDS data farm connection is OK:ushmds', 'advancedOrderRejectJson': ''}\n",
      "2025-06-05 11:21:38,482 - ERROR - ERROR -1 2106 HMDS data farm connection is OK:ushmds\n",
      "2025-06-05 11:21:38,482 - INFO - ANSWER error {'reqId': -1, 'errorCode': 2158, 'errorString': 'Sec-def data farm connection is OK:secdefil', 'advancedOrderRejectJson': ''}\n",
      "2025-06-05 11:21:38,483 - ERROR - ERROR -1 2158 Sec-def data farm connection is OK:secdefil\n"
     ]
    },
    {
     "name": "stdout",
     "output_type": "stream",
     "text": [
      "Found window with title: DUK343627 Interactive Brokers (Simulated Trading)\n"
     ]
    },
    {
     "name": "stderr",
     "output_type": "stream",
     "text": [
      "2025-06-05 11:21:39,476 - INFO - REQUEST reqHistoricalData {'reqId': 0, 'contract': 2001397430928: 0,GOOGL,STK,,,0,,,SMART,,USD,,,False,,,,combo:, 'endDateTime': '', 'durationStr': '8 m', 'barSizeSetting': '15 mins', 'whatToShow': 'ADJUSTED_LAST', 'useRTH': 1, 'formatDate': 1, 'keepUpToDate': False, 'chartOptions': []}\n",
      "2025-06-05 11:21:39,477 - INFO - SENDING reqHistoricalData b'\\x00\\x00\\x00I20\\x000\\x000\\x00GOOGL\\x00STK\\x00\\x000.0\\x00\\x00\\x00SMART\\x00\\x00USD\\x00\\x00\\x000\\x00\\x0015 mins\\x008 m\\x001\\x00ADJUSTED_LAST\\x001\\x000\\x00\\x00'\n",
      "2025-06-05 11:21:40,278 - INFO - ANSWER historicalDataEnd {'reqId': 0, 'start': '20241005 05:21:39 US/Eastern', 'end': '20250605 05:21:39 US/Eastern'}\n",
      "2025-06-05 11:21:42,500 - INFO - disconnecting\n",
      "2025-06-05 11:21:42,501 - INFO - ANSWER connectionClosed {}\n",
      "2025-06-05 11:21:42,517 - INFO - Training data for GOOGL retrieved successfully.\n",
      "2025-06-05 11:21:42,524 - INFO - Starting LSTM training with 1500 epochs and learning rate 0.014.\n"
     ]
    },
    {
     "name": "stdout",
     "output_type": "stream",
     "text": [
      "Epoch: 0, loss: 103.03924\n",
      "Epoch: 500, loss: 17.96481\n",
      "Epoch: 1000, loss: 13.90596\n"
     ]
    },
    {
     "name": "stderr",
     "output_type": "stream",
     "text": [
      "2025-06-05 11:24:07,790 - INFO - LSTM model trained and saved as models/trained_lstm_GOOGL_epoch1500.pth.\n",
      "2025-06-05 11:24:07,794 - INFO - Starting training for 200 episodes with initial epsilon 0.95.\n",
      " 50%|#####     | 100/200 [11:08<10:57,  6.57s/episodes]"
     ]
    },
    {
     "name": "stdout",
     "output_type": "stream",
     "text": [
      "Episode: 100 Total Reward: -460.8899999999992 Epsilon: 0.95\n"
     ]
    },
    {
     "name": "stderr",
     "output_type": "stream",
     "text": [
      "100%|##########| 200/200 [22:08<00:00,  6.64s/episodes]\n",
      "2025-06-05 11:46:16,772 - INFO - Starting training for 200 episodes with initial epsilon 0.95.\n",
      "2025-06-05 11:46:16,779 - INFO - DQN agent trained and saved as models/trained_agent_GOOGL_episode200.pth.\n",
      "2025-06-05 11:46:16,788 - INFO - sent startApi\n",
      "2025-06-05 11:46:16,789 - INFO - REQUEST startApi {}\n",
      "2025-06-05 11:46:16,789 - INFO - SENDING startApi b'\\x00\\x00\\x00\\x0b71\\x002\\x004911\\x00\\x00'\n",
      "2025-06-05 11:46:16,789 - INFO - ANSWER connectAck {}\n",
      "2025-06-05 11:46:16,790 - INFO - ANSWER openOrderEnd {}\n",
      "2025-06-05 11:46:16,794 - INFO - ANSWER managedAccounts {'accountsList': 'DUK343627'}\n",
      "2025-06-05 11:46:16,795 - INFO - ANSWER nextValidId {'orderId': 1}\n",
      "2025-06-05 11:46:16,796 - INFO - ANSWER error {'reqId': -1, 'errorCode': 2104, 'errorString': 'Market data farm connection is OK:usfarm.nj', 'advancedOrderRejectJson': ''}\n",
      "2025-06-05 11:46:16,796 - ERROR - ERROR -1 2104 Market data farm connection is OK:usfarm.nj\n",
      "2025-06-05 11:46:16,797 - INFO - ANSWER error {'reqId': -1, 'errorCode': 2104, 'errorString': 'Market data farm connection is OK:cashfarm', 'advancedOrderRejectJson': ''}\n",
      "2025-06-05 11:46:16,797 - ERROR - ERROR -1 2104 Market data farm connection is OK:cashfarm\n",
      "2025-06-05 11:46:16,799 - INFO - ANSWER error {'reqId': -1, 'errorCode': 2104, 'errorString': 'Market data farm connection is OK:usfarm', 'advancedOrderRejectJson': ''}\n",
      "2025-06-05 11:46:16,799 - ERROR - ERROR -1 2104 Market data farm connection is OK:usfarm\n",
      "2025-06-05 11:46:16,800 - INFO - ANSWER error {'reqId': -1, 'errorCode': 2106, 'errorString': 'HMDS data farm connection is OK:ushmds', 'advancedOrderRejectJson': ''}\n",
      "2025-06-05 11:46:16,800 - ERROR - ERROR -1 2106 HMDS data farm connection is OK:ushmds\n",
      "2025-06-05 11:46:16,800 - INFO - ANSWER error {'reqId': -1, 'errorCode': 2158, 'errorString': 'Sec-def data farm connection is OK:secdefil', 'advancedOrderRejectJson': ''}\n",
      "2025-06-05 11:46:16,801 - ERROR - ERROR -1 2158 Sec-def data farm connection is OK:secdefil\n"
     ]
    },
    {
     "name": "stdout",
     "output_type": "stream",
     "text": [
      "Episode: 200 Total Reward: -972.8999999999993 Epsilon: 0.95\n",
      "Found window with title: DUK343627 Interactive Brokers (Simulated Trading)\n"
     ]
    },
    {
     "name": "stderr",
     "output_type": "stream",
     "text": [
      "2025-06-05 11:46:17,806 - INFO - REQUEST reqHistoricalData {'reqId': 0, 'contract': 2001414751904: 0,MSFT,STK,,,0,,,SMART,,USD,,,False,,,,combo:, 'endDateTime': '', 'durationStr': '8 m', 'barSizeSetting': '15 mins', 'whatToShow': 'ADJUSTED_LAST', 'useRTH': 1, 'formatDate': 1, 'keepUpToDate': False, 'chartOptions': []}\n",
      "2025-06-05 11:46:17,807 - INFO - SENDING reqHistoricalData b'\\x00\\x00\\x00H20\\x000\\x000\\x00MSFT\\x00STK\\x00\\x000.0\\x00\\x00\\x00SMART\\x00\\x00USD\\x00\\x00\\x000\\x00\\x0015 mins\\x008 m\\x001\\x00ADJUSTED_LAST\\x001\\x000\\x00\\x00'\n",
      "2025-06-05 11:46:18,863 - INFO - ANSWER historicalDataEnd {'reqId': 0, 'start': '20241005 05:46:17 US/Eastern', 'end': '20250605 05:46:17 US/Eastern'}\n",
      "2025-06-05 11:46:20,824 - INFO - disconnecting\n",
      "2025-06-05 11:46:20,825 - INFO - ANSWER connectionClosed {}\n",
      "2025-06-05 11:46:20,835 - INFO - Training data for MSFT retrieved successfully.\n",
      "2025-06-05 11:46:20,837 - INFO - Starting LSTM training with 1500 epochs and learning rate 0.014.\n"
     ]
    },
    {
     "name": "stdout",
     "output_type": "stream",
     "text": [
      "Epoch: 0, loss: 159.75945\n",
      "Epoch: 500, loss: 27.57085\n",
      "Epoch: 1000, loss: 27.66047\n"
     ]
    },
    {
     "name": "stderr",
     "output_type": "stream",
     "text": [
      "2025-06-05 11:48:43,487 - INFO - LSTM model trained and saved as models/trained_lstm_MSFT_epoch1500.pth.\n",
      "2025-06-05 11:48:43,493 - INFO - Starting training for 200 episodes with initial epsilon 0.95.\n",
      " 50%|#####     | 100/200 [11:00<10:56,  6.57s/episodes]"
     ]
    },
    {
     "name": "stdout",
     "output_type": "stream",
     "text": [
      "Episode: 100 Total Reward: 2015.6600000000014 Epsilon: 0.95\n"
     ]
    },
    {
     "name": "stderr",
     "output_type": "stream",
     "text": [
      "100%|##########| 200/200 [22:02<00:00,  6.61s/episodes]\n",
      "2025-06-05 12:10:45,601 - INFO - Starting training for 200 episodes with initial epsilon 0.95.\n",
      "2025-06-05 12:10:45,609 - INFO - DQN agent trained and saved as models/trained_agent_MSFT_episode200.pth.\n"
     ]
    },
    {
     "name": "stdout",
     "output_type": "stream",
     "text": [
      "Episode: 200 Total Reward: 861.8399999999997 Epsilon: 0.95\n"
     ]
    }
   ],
   "source": [
    "tickers = ['NVDA', 'GOOGL', 'MSFT']\n",
    "#tickers = ['GOOGL', 'MSFT']\n",
    "for ticker in tickers:\n",
    "    train_agent(ticker)"
   ]
  }
 ],
 "metadata": {
  "kernelspec": {
   "display_name": "Python 3",
   "language": "python",
   "name": "python3"
  },
  "language_info": {
   "codemirror_mode": {
    "name": "ipython",
    "version": 3
   },
   "file_extension": ".py",
   "mimetype": "text/x-python",
   "name": "python",
   "nbconvert_exporter": "python",
   "pygments_lexer": "ipython3",
   "version": "3.10.7"
  }
 },
 "nbformat": 4,
 "nbformat_minor": 5
}
