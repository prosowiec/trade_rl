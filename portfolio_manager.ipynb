{
 "cells": [
  {
   "cell_type": "code",
   "execution_count": 1,
   "id": "d97f69b0",
   "metadata": {},
   "outputs": [],
   "source": [
    "from manager_env import PortfolioEnv\n",
    "import pandas as pd\n",
    "\n",
    "from source.database import read_stock_data"
   ]
  },
  {
   "cell_type": "code",
   "execution_count": 2,
   "id": "07a830db",
   "metadata": {},
   "outputs": [],
   "source": [
    "ticker = 'AAPL'\n",
    "train_df, val_df ,rl_df,test_df = read_stock_data(ticker)\n",
    "training_set = pd.concat([train_df, val_df ,rl_df,test_df])\n",
    "\n",
    "\n",
    "data = training_set['close'].copy()\n",
    "data[ticker] = training_set['close']\n",
    "data = pd.DataFrame(data[ticker])\n",
    "\n",
    "\n",
    "data_split = int(len(data)  * 0.8)\n",
    "\n",
    "train_data = data[:data_split]\n",
    "valid_data = data[data_split:]\n",
    "\n",
    "WINDOW_SIZE = 96\n",
    "env = PortfolioEnv(train_data)\n",
    "valid_env = PortfolioEnv(valid_data)\n"
   ]
  },
  {
   "cell_type": "code",
   "execution_count": 4,
   "id": "ad3d2316",
   "metadata": {},
   "outputs": [
    {
     "data": {
      "text/plain": [
       "13"
      ]
     },
     "execution_count": 4,
     "metadata": {},
     "output_type": "execute_result"
    }
   ],
   "source": [
    "len(env._get_obs())"
   ]
  }
 ],
 "metadata": {
  "kernelspec": {
   "display_name": "Python 3",
   "language": "python",
   "name": "python3"
  },
  "language_info": {
   "codemirror_mode": {
    "name": "ipython",
    "version": 3
   },
   "file_extension": ".py",
   "mimetype": "text/x-python",
   "name": "python",
   "nbconvert_exporter": "python",
   "pygments_lexer": "ipython3",
   "version": "3.10.7"
  }
 },
 "nbformat": 4,
 "nbformat_minor": 5
}
